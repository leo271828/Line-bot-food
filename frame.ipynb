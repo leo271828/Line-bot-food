{
 "cells": [
  {
   "cell_type": "code",
   "execution_count": 128,
   "metadata": {},
   "outputs": [],
   "source": [
    "import pandas as pd\n",
    "import numpy as np"
   ]
  },
  {
   "cell_type": "code",
   "execution_count": 129,
   "metadata": {},
   "outputs": [],
   "source": [
    "def output_filter(df_data, level):\n",
    "    if level == \"no\":\n",
    "        return pd.Series([True for i in range(df_data.shape[0])])\n",
    "    else:\n",
    "        return df_data == level\n"
   ]
  },
  {
   "cell_type": "code",
   "execution_count": 146,
   "metadata": {},
   "outputs": [],
   "source": [
    "path = \"data.csv\"\n",
    "df = pd.read_csv(path)\n",
    "food_str, cost_str, place_str = \"meal\", \"high\", \"no\"\n",
    "\n",
    "ffood = output_filter(df.Food, food_str)\n",
    "fcost = output_filter(df.Cost, cost_str)\n",
    "fplace = output_filter(df.Place, place_str)\n",
    "filter = (ffood & fcost & fplace)\n",
    "res = pd.DataFrame(df[filter]).reset_index(drop=True)\n",
    "try:\n",
    "    res = res.drop([\"ID\"], axis=1)\n",
    "except:\n",
    "    pass"
   ]
  },
  {
   "cell_type": "code",
   "execution_count": 147,
   "metadata": {},
   "outputs": [
    {
     "name": "stdout",
     "output_type": "stream",
     "text": [
      "我們推薦這幾家餐廳給你！\n",
      "1. 井選\n",
      "2. 悠閒食堂\n",
      "3. 糖勒?兩茶匙\n",
      "\n"
     ]
    }
   ],
   "source": [
    "text = \"我們推薦這幾家餐廳給你！\\n\"\n",
    "for idx in range(res.shape[0]):\n",
    "    tmp = list(res.iloc[idx])\n",
    "    text += str(idx+1) + \". \" + tmp[0] +\"\\n\"\n",
    "    \n",
    "print(text)\n"
   ]
  },
  {
   "cell_type": "code",
   "execution_count": 148,
   "metadata": {},
   "outputs": [
    {
     "name": "stdout",
     "output_type": "stream",
     "text": [
      "我們推薦這幾家餐廳給你！\n",
      "1. chu chu 甜點 https://goo.gl/maps/mnD8brpDpt8aTNeZ6\n",
      "2. 懷舊小站豆腐冰 https://goo.gl/maps/3GtN5jBqHbbnp7EQ6\n",
      "3. 小北家 https://goo.gl/maps/uDmfXUyfMCNRFkGJA\n",
      "4. 糖勒?兩茶匙 https://goo.gl/maps/PuJCv9PmL9BaAJey8\n",
      "5. 水漾森林 https://goo.gl/maps/F6X71NAJsTukPDNf6\n",
      "\n"
     ]
    }
   ],
   "source": [
    "import random\n",
    "from random import sample\n",
    "lst = sample(list(df.index), 5)\n",
    "res = df.iloc[lst, :].reset_index(drop=True)\n",
    "try:\n",
    "    res = res.drop([\"ID\"], axis=1)\n",
    "except:\n",
    "    pass\n",
    "text = \"我們推薦這幾家餐廳給你！\\n\"\n",
    "for idx in res.index:\n",
    "    tmp = res.iloc[idx][0]\n",
    "    tmp_link = res.iloc[idx][\"Link\"]\n",
    "    text += str(idx+1) + \". \" + tmp + \" \" + tmp_link + \"\\n\"\n",
    "print(text)\n",
    "# for idx, row in df.iterrows():\n",
    "#     lst = list(row)\n",
    "#     print(lst)\n",
    "# df.ID[0]"
   ]
  },
  {
   "cell_type": "code",
   "execution_count": 155,
   "metadata": {},
   "outputs": [
    {
     "data": {
      "text/html": [
       "<div>\n",
       "<style scoped>\n",
       "    .dataframe tbody tr th:only-of-type {\n",
       "        vertical-align: middle;\n",
       "    }\n",
       "\n",
       "    .dataframe tbody tr th {\n",
       "        vertical-align: top;\n",
       "    }\n",
       "\n",
       "    .dataframe thead th {\n",
       "        text-align: right;\n",
       "    }\n",
       "</style>\n",
       "<table border=\"1\" class=\"dataframe\">\n",
       "  <thead>\n",
       "    <tr style=\"text-align: right;\">\n",
       "      <th></th>\n",
       "      <th>Restaurant</th>\n",
       "      <th>Food</th>\n",
       "      <th>Cost</th>\n",
       "      <th>Place</th>\n",
       "      <th>Link</th>\n",
       "    </tr>\n",
       "  </thead>\n",
       "  <tbody>\n",
       "    <tr>\n",
       "      <th>0</th>\n",
       "      <td>元之氣</td>\n",
       "      <td>breakfast</td>\n",
       "      <td>poor</td>\n",
       "      <td>nearby</td>\n",
       "      <td>https://goo.gl/maps/s7tXJeoWNEPX2V2S7</td>\n",
       "    </tr>\n",
       "    <tr>\n",
       "      <th>1</th>\n",
       "      <td>小孩先生</td>\n",
       "      <td>breakfast</td>\n",
       "      <td>medium</td>\n",
       "      <td>nearby</td>\n",
       "      <td>https://goo.gl/maps/MzqGo1CjjZJ7Aycj9</td>\n",
       "    </tr>\n",
       "    <tr>\n",
       "      <th>2</th>\n",
       "      <td>狐蒙先生</td>\n",
       "      <td>breakfast</td>\n",
       "      <td>high</td>\n",
       "      <td>nearby</td>\n",
       "      <td>https://goo.gl/maps/NWaREj83G4JhaFge7</td>\n",
       "    </tr>\n",
       "    <tr>\n",
       "      <th>3</th>\n",
       "      <td>阿公阿婆蛋餅</td>\n",
       "      <td>breakfast</td>\n",
       "      <td>poor</td>\n",
       "      <td>middle</td>\n",
       "      <td>https://goo.gl/maps/R2F6JuZf4Wo3wKgbA</td>\n",
       "    </tr>\n",
       "    <tr>\n",
       "      <th>4</th>\n",
       "      <td>里歐</td>\n",
       "      <td>breakfast</td>\n",
       "      <td>medium</td>\n",
       "      <td>middle</td>\n",
       "      <td>https://goo.gl/maps/znHEychzRD9oxkgh7</td>\n",
       "    </tr>\n",
       "  </tbody>\n",
       "</table>\n",
       "</div>"
      ],
      "text/plain": [
       "  Restaurant       Food    Cost   Place                                   Link\n",
       "0        元之氣  breakfast    poor  nearby  https://goo.gl/maps/s7tXJeoWNEPX2V2S7\n",
       "1       小孩先生  breakfast  medium  nearby  https://goo.gl/maps/MzqGo1CjjZJ7Aycj9\n",
       "2       狐蒙先生  breakfast    high  nearby  https://goo.gl/maps/NWaREj83G4JhaFge7\n",
       "3     阿公阿婆蛋餅  breakfast    poor  middle  https://goo.gl/maps/R2F6JuZf4Wo3wKgbA\n",
       "4         里歐  breakfast  medium  middle  https://goo.gl/maps/znHEychzRD9oxkgh7"
      ]
     },
     "execution_count": 155,
     "metadata": {},
     "output_type": "execute_result"
    }
   ],
   "source": [
    "df.head()"
   ]
  },
  {
   "cell_type": "code",
   "execution_count": 170,
   "metadata": {},
   "outputs": [],
   "source": [
    "new_data = {\n",
    "    \"Restaurant\": \"測試捷米\",\n",
    "    \"Food\": \"breakfast\",\n",
    "    \"Cost\": \"poor\",\n",
    "    \"Place\": \"nearby\",\n",
    "    \"Link\": \"https://goo.gl/maps/vGaZunyzqQwc3kpr8\",\n",
    "}\n",
    "new_df = df.append(new_data, ignore_index=True)"
   ]
  },
  {
   "cell_type": "code",
   "execution_count": 180,
   "metadata": {},
   "outputs": [
    {
     "data": {
      "text/plain": [
       "'https://goo.gl/maps/vGaZunyzqQwc3kpr8'"
      ]
     },
     "execution_count": 180,
     "metadata": {},
     "output_type": "execute_result"
    }
   ],
   "source": [
    "a  = '02930590428084\\nhttps://goo.gl/maps/vGaZunyzqQwc3kpr8'\n",
    "b = 'https'\n",
    "pos = a.find(b)\n",
    "a[pos:]"
   ]
  }
 ],
 "metadata": {
  "kernelspec": {
   "display_name": "base",
   "language": "python",
   "name": "python3"
  },
  "language_info": {
   "codemirror_mode": {
    "name": "ipython",
    "version": 3
   },
   "file_extension": ".py",
   "mimetype": "text/x-python",
   "name": "python",
   "nbconvert_exporter": "python",
   "pygments_lexer": "ipython3",
   "version": "3.8.8 (default, Apr 13 2021, 15:08:03) [MSC v.1916 64 bit (AMD64)]"
  },
  "orig_nbformat": 4,
  "vscode": {
   "interpreter": {
    "hash": "57468ee44aa95dd4e25b20d5089bdc40d0474ae5901f7acf4c61317f32db0a15"
   }
  }
 },
 "nbformat": 4,
 "nbformat_minor": 2
}
